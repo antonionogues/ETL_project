{
 "cells": [
  {
   "cell_type": "markdown",
   "metadata": {},
   "source": [
    "Práctica final Extracción, Transformación y Carga de datos\n",
    "--"
   ]
  },
  {
   "cell_type": "markdown",
   "metadata": {},
   "source": [
    "**La práctica se ha realizado mediante SQL.**"
   ]
  },
  {
   "attachments": {},
   "cell_type": "markdown",
   "metadata": {},
   "source": [
    "Antonio Nogués Podadera "
   ]
  },
  {
   "attachments": {},
   "cell_type": "markdown",
   "metadata": {},
   "source": [
    "# Extracción "
   ]
  },
  {
   "cell_type": "markdown",
   "metadata": {},
   "source": [
    "Librerías"
   ]
  },
  {
   "cell_type": "code",
   "execution_count": 1,
   "metadata": {},
   "outputs": [],
   "source": [
    "import pandas as pd\n",
    "from sqlalchemy import create_engine\n",
    "from sqlalchemy import inspect\n",
    "import re \n",
    "import random\n",
    "from datetime import datetime\n",
    "import warnings\n",
    "warnings.filterwarnings('ignore')"
   ]
  },
  {
   "cell_type": "markdown",
   "metadata": {},
   "source": [
    "Conexión con la base de datos"
   ]
  },
  {
   "cell_type": "code",
   "execution_count": 2,
   "metadata": {},
   "outputs": [],
   "source": [
    "# Objeto que representa la conexión a la base de datos\n",
    "\n",
    "engine = create_engine('sqlite:///airbnb.sqlite') "
   ]
  },
  {
   "cell_type": "code",
   "execution_count": 3,
   "metadata": {},
   "outputs": [
    {
     "name": "stdout",
     "output_type": "stream",
     "text": [
      "['Hoods', 'Listings', 'Reviews']\n"
     ]
    }
   ],
   "source": [
    "# Consulta para saber qué tablas tiene la base de datos\n",
    "\n",
    "inspector = inspect(engine)\n",
    "print(inspector.get_table_names())"
   ]
  },
  {
   "attachments": {},
   "cell_type": "markdown",
   "metadata": {},
   "source": [
    "## 1. Tabla `Listings`"
   ]
  },
  {
   "cell_type": "code",
   "execution_count": 4,
   "metadata": {},
   "outputs": [],
   "source": [
    "query_1 = \"\"\"\n",
    "SELECT Listings.id, Hoods.neighbourhood_group, Listings.price, Listings.number_of_reviews, Listings.review_scores_rating, Listings.room_type\n",
    "FROM Listings\n",
    "JOIN Hoods \n",
    "ON Listings.neighbourhood_cleansed = Hoods.neighbourhood\n",
    "\"\"\""
   ]
  },
  {
   "cell_type": "code",
   "execution_count": 5,
   "metadata": {},
   "outputs": [
    {
     "data": {
      "text/html": [
       "<div>\n",
       "<style scoped>\n",
       "    .dataframe tbody tr th:only-of-type {\n",
       "        vertical-align: middle;\n",
       "    }\n",
       "\n",
       "    .dataframe tbody tr th {\n",
       "        vertical-align: top;\n",
       "    }\n",
       "\n",
       "    .dataframe thead th {\n",
       "        text-align: right;\n",
       "    }\n",
       "</style>\n",
       "<table border=\"1\" class=\"dataframe\">\n",
       "  <thead>\n",
       "    <tr style=\"text-align: right;\">\n",
       "      <th></th>\n",
       "      <th>id</th>\n",
       "      <th>neighbourhood_group</th>\n",
       "      <th>price</th>\n",
       "      <th>number_of_reviews</th>\n",
       "      <th>review_scores_rating</th>\n",
       "      <th>room_type</th>\n",
       "    </tr>\n",
       "  </thead>\n",
       "  <tbody>\n",
       "    <tr>\n",
       "      <th>0</th>\n",
       "      <td>6369.0</td>\n",
       "      <td>Chamartín</td>\n",
       "      <td>$60.00</td>\n",
       "      <td>79.0</td>\n",
       "      <td>4.89</td>\n",
       "      <td>Private room</td>\n",
       "    </tr>\n",
       "    <tr>\n",
       "      <th>1</th>\n",
       "      <td>21853.0</td>\n",
       "      <td>Latina</td>\n",
       "      <td>$31.00</td>\n",
       "      <td>33.0</td>\n",
       "      <td>4.58</td>\n",
       "      <td>Private room</td>\n",
       "    </tr>\n",
       "    <tr>\n",
       "      <th>2</th>\n",
       "      <td>23001.0</td>\n",
       "      <td>Arganzuela</td>\n",
       "      <td>$50.00</td>\n",
       "      <td>NaN</td>\n",
       "      <td>NaN</td>\n",
       "      <td>Entire home/apt</td>\n",
       "    </tr>\n",
       "    <tr>\n",
       "      <th>3</th>\n",
       "      <td>24805.0</td>\n",
       "      <td>Centro</td>\n",
       "      <td>$92.00</td>\n",
       "      <td>12.0</td>\n",
       "      <td>4.92</td>\n",
       "      <td>Entire home/apt</td>\n",
       "    </tr>\n",
       "    <tr>\n",
       "      <th>4</th>\n",
       "      <td>26825.0</td>\n",
       "      <td>Arganzuela</td>\n",
       "      <td>$26.00</td>\n",
       "      <td>149.0</td>\n",
       "      <td>4.68</td>\n",
       "      <td>Private room</td>\n",
       "    </tr>\n",
       "  </tbody>\n",
       "</table>\n",
       "</div>"
      ],
      "text/plain": [
       "        id neighbourhood_group   price  number_of_reviews  \\\n",
       "0   6369.0           Chamartín  $60.00               79.0   \n",
       "1  21853.0              Latina  $31.00               33.0   \n",
       "2  23001.0          Arganzuela  $50.00                NaN   \n",
       "3  24805.0              Centro  $92.00               12.0   \n",
       "4  26825.0          Arganzuela  $26.00              149.0   \n",
       "\n",
       "   review_scores_rating        room_type  \n",
       "0                  4.89     Private room  \n",
       "1                  4.58     Private room  \n",
       "2                   NaN  Entire home/apt  \n",
       "3                  4.92  Entire home/apt  \n",
       "4                  4.68     Private room  "
      ]
     },
     "execution_count": 5,
     "metadata": {},
     "output_type": "execute_result"
    }
   ],
   "source": [
    "table_listings = pd.read_sql(query_1, engine)  \n",
    "table_listings.head()"
   ]
  },
  {
   "attachments": {},
   "cell_type": "markdown",
   "metadata": {},
   "source": [
    "## 2. Tabla `Reviews`"
   ]
  },
  {
   "cell_type": "code",
   "execution_count": 6,
   "metadata": {},
   "outputs": [],
   "source": [
    "query_2 = \"\"\"\n",
    "SELECT COUNT(Reviews.id) AS number_reviews, Hoods.neighbourhood_group, strftime('%Y-%m', Reviews.date) AS month\n",
    "FROM Reviews\n",
    "INNER JOIN Listings\n",
    "ON Listings.id=Reviews.listing_id\n",
    "INNER JOIN Hoods\n",
    "ON Listings.neighbourhood_cleansed=Hoods.neighbourhood\n",
    "WHERE strftime('%Y', Reviews.date) NOT LIKE 2010\n",
    "GROUP BY Hoods.neighbourhood_group, month\n",
    "\"\"\""
   ]
  },
  {
   "cell_type": "code",
   "execution_count": 7,
   "metadata": {},
   "outputs": [
    {
     "data": {
      "text/html": [
       "<div>\n",
       "<style scoped>\n",
       "    .dataframe tbody tr th:only-of-type {\n",
       "        vertical-align: middle;\n",
       "    }\n",
       "\n",
       "    .dataframe tbody tr th {\n",
       "        vertical-align: top;\n",
       "    }\n",
       "\n",
       "    .dataframe thead th {\n",
       "        text-align: right;\n",
       "    }\n",
       "</style>\n",
       "<table border=\"1\" class=\"dataframe\">\n",
       "  <thead>\n",
       "    <tr style=\"text-align: right;\">\n",
       "      <th></th>\n",
       "      <th>number_reviews</th>\n",
       "      <th>neighbourhood_group</th>\n",
       "      <th>month</th>\n",
       "    </tr>\n",
       "  </thead>\n",
       "  <tbody>\n",
       "    <tr>\n",
       "      <th>0</th>\n",
       "      <td>1</td>\n",
       "      <td>Arganzuela</td>\n",
       "      <td>2011-01</td>\n",
       "    </tr>\n",
       "    <tr>\n",
       "      <th>1</th>\n",
       "      <td>1</td>\n",
       "      <td>Arganzuela</td>\n",
       "      <td>2011-03</td>\n",
       "    </tr>\n",
       "    <tr>\n",
       "      <th>2</th>\n",
       "      <td>1</td>\n",
       "      <td>Arganzuela</td>\n",
       "      <td>2011-04</td>\n",
       "    </tr>\n",
       "    <tr>\n",
       "      <th>3</th>\n",
       "      <td>1</td>\n",
       "      <td>Arganzuela</td>\n",
       "      <td>2011-05</td>\n",
       "    </tr>\n",
       "    <tr>\n",
       "      <th>4</th>\n",
       "      <td>1</td>\n",
       "      <td>Arganzuela</td>\n",
       "      <td>2011-06</td>\n",
       "    </tr>\n",
       "  </tbody>\n",
       "</table>\n",
       "</div>"
      ],
      "text/plain": [
       "   number_reviews neighbourhood_group    month\n",
       "0               1          Arganzuela  2011-01\n",
       "1               1          Arganzuela  2011-03\n",
       "2               1          Arganzuela  2011-04\n",
       "3               1          Arganzuela  2011-05\n",
       "4               1          Arganzuela  2011-06"
      ]
     },
     "execution_count": 7,
     "metadata": {},
     "output_type": "execute_result"
    }
   ],
   "source": [
    "table_reviews = pd.read_sql(query_2, engine)  \n",
    "table_reviews.head()"
   ]
  },
  {
   "attachments": {},
   "cell_type": "markdown",
   "metadata": {},
   "source": [
    "# Transformacion"
   ]
  },
  {
   "attachments": {},
   "cell_type": "markdown",
   "metadata": {},
   "source": [
    "## Transformación tabla `Listings`"
   ]
  },
  {
   "attachments": {},
   "cell_type": "markdown",
   "metadata": {},
   "source": [
    "### 3. Transformación de la columna `price`"
   ]
  },
  {
   "cell_type": "markdown",
   "metadata": {},
   "source": [
    "Queremos eliminar el simbolo $ y la coma de los elementos de la columna \"price\""
   ]
  },
  {
   "cell_type": "code",
   "execution_count": 8,
   "metadata": {},
   "outputs": [
    {
     "data": {
      "text/html": [
       "<div>\n",
       "<style scoped>\n",
       "    .dataframe tbody tr th:only-of-type {\n",
       "        vertical-align: middle;\n",
       "    }\n",
       "\n",
       "    .dataframe tbody tr th {\n",
       "        vertical-align: top;\n",
       "    }\n",
       "\n",
       "    .dataframe thead th {\n",
       "        text-align: right;\n",
       "    }\n",
       "</style>\n",
       "<table border=\"1\" class=\"dataframe\">\n",
       "  <thead>\n",
       "    <tr style=\"text-align: right;\">\n",
       "      <th></th>\n",
       "      <th>id</th>\n",
       "      <th>neighbourhood_group</th>\n",
       "      <th>price</th>\n",
       "      <th>number_of_reviews</th>\n",
       "      <th>review_scores_rating</th>\n",
       "      <th>room_type</th>\n",
       "    </tr>\n",
       "  </thead>\n",
       "  <tbody>\n",
       "    <tr>\n",
       "      <th>0</th>\n",
       "      <td>6369.0</td>\n",
       "      <td>Chamartín</td>\n",
       "      <td>60.00</td>\n",
       "      <td>79.0</td>\n",
       "      <td>4.89</td>\n",
       "      <td>Private room</td>\n",
       "    </tr>\n",
       "    <tr>\n",
       "      <th>1</th>\n",
       "      <td>21853.0</td>\n",
       "      <td>Latina</td>\n",
       "      <td>31.00</td>\n",
       "      <td>33.0</td>\n",
       "      <td>4.58</td>\n",
       "      <td>Private room</td>\n",
       "    </tr>\n",
       "    <tr>\n",
       "      <th>2</th>\n",
       "      <td>23001.0</td>\n",
       "      <td>Arganzuela</td>\n",
       "      <td>50.00</td>\n",
       "      <td>NaN</td>\n",
       "      <td>NaN</td>\n",
       "      <td>Entire home/apt</td>\n",
       "    </tr>\n",
       "    <tr>\n",
       "      <th>3</th>\n",
       "      <td>24805.0</td>\n",
       "      <td>Centro</td>\n",
       "      <td>92.00</td>\n",
       "      <td>12.0</td>\n",
       "      <td>4.92</td>\n",
       "      <td>Entire home/apt</td>\n",
       "    </tr>\n",
       "    <tr>\n",
       "      <th>4</th>\n",
       "      <td>26825.0</td>\n",
       "      <td>Arganzuela</td>\n",
       "      <td>26.00</td>\n",
       "      <td>149.0</td>\n",
       "      <td>4.68</td>\n",
       "      <td>Private room</td>\n",
       "    </tr>\n",
       "  </tbody>\n",
       "</table>\n",
       "</div>"
      ],
      "text/plain": [
       "        id neighbourhood_group  price  number_of_reviews  \\\n",
       "0   6369.0           Chamartín  60.00               79.0   \n",
       "1  21853.0              Latina  31.00               33.0   \n",
       "2  23001.0          Arganzuela  50.00                NaN   \n",
       "3  24805.0              Centro  92.00               12.0   \n",
       "4  26825.0          Arganzuela  26.00              149.0   \n",
       "\n",
       "   review_scores_rating        room_type  \n",
       "0                  4.89     Private room  \n",
       "1                  4.58     Private room  \n",
       "2                   NaN  Entire home/apt  \n",
       "3                  4.92  Entire home/apt  \n",
       "4                  4.68     Private room  "
      ]
     },
     "execution_count": 8,
     "metadata": {},
     "output_type": "execute_result"
    }
   ],
   "source": [
    "# Selección de la columna en la que quiero aplicar la expresión regular (price)\n",
    "\n",
    "col_price = table_listings['price']\n",
    "\n",
    "# Aplicamos la expresión regular para eliminar el símbolo $\n",
    "\n",
    "col_price = col_price.apply(lambda x: re.sub(r'\\$', '', x))\n",
    "\n",
    "# Aplicamos la expresión regular para eliminar la coma\n",
    "\n",
    "col_price = col_price.apply(lambda x: re.sub(r',', '', x))\n",
    "\n",
    "# Guardamos los cambios en el dataframe\n",
    "table_listings['price'] = col_price\n",
    "\n",
    "table_listings.head()"
   ]
  },
  {
   "attachments": {},
   "cell_type": "markdown",
   "metadata": {},
   "source": [
    "Ahora podemos convertir la columna `price` a tipo numérico (float)"
   ]
  },
  {
   "cell_type": "code",
   "execution_count": 9,
   "metadata": {},
   "outputs": [
    {
     "data": {
      "text/plain": [
       "dtype('float64')"
      ]
     },
     "execution_count": 9,
     "metadata": {},
     "output_type": "execute_result"
    }
   ],
   "source": [
    "table_listings['price']= pd.to_numeric(table_listings['price'])\n",
    "\n",
    "# Comprobación de que se ha convertido correctamente\n",
    "table_listings['price'].dtype"
   ]
  },
  {
   "attachments": {},
   "cell_type": "markdown",
   "metadata": {},
   "source": [
    "### 4. Imputación de valores missing de `number_of_reviews` y `review_scores_rating`"
   ]
  },
  {
   "cell_type": "markdown",
   "metadata": {},
   "source": [
    "Imputación de valores missing sobre `number_of_reviews`"
   ]
  },
  {
   "cell_type": "code",
   "execution_count": 10,
   "metadata": {},
   "outputs": [],
   "source": [
    "# Agrupamos los datos por la columna 'room_type'\n",
    "groups = table_listings.groupby('room_type')"
   ]
  },
  {
   "cell_type": "code",
   "execution_count": 11,
   "metadata": {},
   "outputs": [],
   "source": [
    "# Semilla para que los resultados sean reproducibles\n",
    "random.seed(12345)\n",
    "\n",
    "# Iteración sobre cada grupo\n",
    "for name, group in groups:\n",
    "  # Seleccionamos los valores de la columna 'number_of_reviews' que no son NA\n",
    "  values = group['number_of_reviews'].dropna().values\n",
    "\n",
    "  # Iteración sobre cada fila del grupo\n",
    "  for index, row in group.iterrows():\n",
    "    # Si el valor de la columna 'number_of_reviews' es NA, rellenamos con un valor aleatorio\n",
    "    if pd.isnull(row['number_of_reviews']):\n",
    "      table_listings.at[index, 'number_of_reviews'] = random.choice(values)"
   ]
  },
  {
   "cell_type": "markdown",
   "metadata": {},
   "source": [
    "Imputación de valores missing sobre `review_scores_rating`"
   ]
  },
  {
   "cell_type": "code",
   "execution_count": 12,
   "metadata": {},
   "outputs": [],
   "source": [
    "# Semilla para que los resultados sean reproducibles\n",
    "random.seed(12345)\n",
    "\n",
    "# Iteración sobre cada grupo\n",
    "for name, group in groups:\n",
    "  # Seleccionamos los valores de la columna 'review_scores_rating' que no son NA\n",
    "  values = group['review_scores_rating'].dropna().values\n",
    "\n",
    "  # Iteración sobre cada fila del grupo\n",
    "  for index, row in group.iterrows():\n",
    "    # Si el valor de la columna 'review_scores_rating' es NA, rellenamos con un valor aleatorio\n",
    "    if pd.isnull(row['review_scores_rating']):\n",
    "      table_listings.at[index, 'review_scores_rating'] = random.choice(values)"
   ]
  },
  {
   "cell_type": "code",
   "execution_count": 13,
   "metadata": {},
   "outputs": [
    {
     "data": {
      "text/html": [
       "<div>\n",
       "<style scoped>\n",
       "    .dataframe tbody tr th:only-of-type {\n",
       "        vertical-align: middle;\n",
       "    }\n",
       "\n",
       "    .dataframe tbody tr th {\n",
       "        vertical-align: top;\n",
       "    }\n",
       "\n",
       "    .dataframe thead th {\n",
       "        text-align: right;\n",
       "    }\n",
       "</style>\n",
       "<table border=\"1\" class=\"dataframe\">\n",
       "  <thead>\n",
       "    <tr style=\"text-align: right;\">\n",
       "      <th></th>\n",
       "      <th>id</th>\n",
       "      <th>neighbourhood_group</th>\n",
       "      <th>price</th>\n",
       "      <th>number_of_reviews</th>\n",
       "      <th>review_scores_rating</th>\n",
       "      <th>room_type</th>\n",
       "    </tr>\n",
       "  </thead>\n",
       "  <tbody>\n",
       "    <tr>\n",
       "      <th>0</th>\n",
       "      <td>6369.0</td>\n",
       "      <td>Chamartín</td>\n",
       "      <td>60.0</td>\n",
       "      <td>79.0</td>\n",
       "      <td>4.89</td>\n",
       "      <td>Private room</td>\n",
       "    </tr>\n",
       "    <tr>\n",
       "      <th>1</th>\n",
       "      <td>21853.0</td>\n",
       "      <td>Latina</td>\n",
       "      <td>31.0</td>\n",
       "      <td>33.0</td>\n",
       "      <td>4.58</td>\n",
       "      <td>Private room</td>\n",
       "    </tr>\n",
       "    <tr>\n",
       "      <th>2</th>\n",
       "      <td>23001.0</td>\n",
       "      <td>Arganzuela</td>\n",
       "      <td>50.0</td>\n",
       "      <td>8.0</td>\n",
       "      <td>4.88</td>\n",
       "      <td>Entire home/apt</td>\n",
       "    </tr>\n",
       "    <tr>\n",
       "      <th>3</th>\n",
       "      <td>24805.0</td>\n",
       "      <td>Centro</td>\n",
       "      <td>92.0</td>\n",
       "      <td>12.0</td>\n",
       "      <td>4.92</td>\n",
       "      <td>Entire home/apt</td>\n",
       "    </tr>\n",
       "    <tr>\n",
       "      <th>4</th>\n",
       "      <td>26825.0</td>\n",
       "      <td>Arganzuela</td>\n",
       "      <td>26.0</td>\n",
       "      <td>149.0</td>\n",
       "      <td>4.68</td>\n",
       "      <td>Private room</td>\n",
       "    </tr>\n",
       "  </tbody>\n",
       "</table>\n",
       "</div>"
      ],
      "text/plain": [
       "        id neighbourhood_group  price  number_of_reviews  \\\n",
       "0   6369.0           Chamartín   60.0               79.0   \n",
       "1  21853.0              Latina   31.0               33.0   \n",
       "2  23001.0          Arganzuela   50.0                8.0   \n",
       "3  24805.0              Centro   92.0               12.0   \n",
       "4  26825.0          Arganzuela   26.0              149.0   \n",
       "\n",
       "   review_scores_rating        room_type  \n",
       "0                  4.89     Private room  \n",
       "1                  4.58     Private room  \n",
       "2                  4.88  Entire home/apt  \n",
       "3                  4.92  Entire home/apt  \n",
       "4                  4.68     Private room  "
      ]
     },
     "execution_count": 13,
     "metadata": {},
     "output_type": "execute_result"
    }
   ],
   "source": [
    "# Se muestran los resultados de las dos columnas transformadas\n",
    "\n",
    "table_listings.head()"
   ]
  },
  {
   "attachments": {},
   "cell_type": "markdown",
   "metadata": {},
   "source": [
    "### 5. Agregación de datos"
   ]
  },
  {
   "cell_type": "code",
   "execution_count": 14,
   "metadata": {},
   "outputs": [],
   "source": [
    "# Agrupamos el dataframe por distrito y tipo de alojamiento\n",
    "\n",
    "group_df = table_listings.groupby(['neighbourhood_group', 'room_type'])"
   ]
  },
  {
   "cell_type": "code",
   "execution_count": 15,
   "metadata": {},
   "outputs": [],
   "source": [
    "# Esta función calcula la media ponderada (review_scores_rating ponderado con number_of_reviews)\n",
    "\n",
    "def calculo_media_ponderada(group):\n",
    "  media_ponderada = (group[\"review_scores_rating\"] * group[\"number_of_reviews\"]).sum() / group[\"number_of_reviews\"].sum()\n",
    "  return media_ponderada"
   ]
  },
  {
   "cell_type": "code",
   "execution_count": 16,
   "metadata": {},
   "outputs": [],
   "source": [
    "# Cálculo de la media ponderada\n",
    "\n",
    "mean = group_df.apply(calculo_media_ponderada)\n",
    "mean = pd.DataFrame(mean).reset_index().rename(columns={0: 'nota_media'})"
   ]
  },
  {
   "cell_type": "code",
   "execution_count": 17,
   "metadata": {},
   "outputs": [],
   "source": [
    "# Cálculo del precio mediano\n",
    "\n",
    "median_price = group_df['price'].median()\n",
    "median_price = pd.DataFrame(median_price).reset_index().rename(columns={'price': 'precio_mediano'})"
   ]
  },
  {
   "cell_type": "code",
   "execution_count": 18,
   "metadata": {},
   "outputs": [],
   "source": [
    "# Cálculo del número de alojamientos\n",
    "\n",
    "count_id = group_df['id'].count()\n",
    "count_id = pd.DataFrame(count_id).reset_index()"
   ]
  },
  {
   "cell_type": "code",
   "execution_count": 19,
   "metadata": {},
   "outputs": [
    {
     "data": {
      "text/html": [
       "<div>\n",
       "<style scoped>\n",
       "    .dataframe tbody tr th:only-of-type {\n",
       "        vertical-align: middle;\n",
       "    }\n",
       "\n",
       "    .dataframe tbody tr th {\n",
       "        vertical-align: top;\n",
       "    }\n",
       "\n",
       "    .dataframe thead th {\n",
       "        text-align: right;\n",
       "    }\n",
       "</style>\n",
       "<table border=\"1\" class=\"dataframe\">\n",
       "  <thead>\n",
       "    <tr style=\"text-align: right;\">\n",
       "      <th></th>\n",
       "      <th>neighbourhood_group</th>\n",
       "      <th>room_type</th>\n",
       "      <th>precio_mediano</th>\n",
       "      <th>nota_media</th>\n",
       "    </tr>\n",
       "  </thead>\n",
       "  <tbody>\n",
       "    <tr>\n",
       "      <th>0</th>\n",
       "      <td>Arganzuela</td>\n",
       "      <td>Entire home/apt</td>\n",
       "      <td>70.0</td>\n",
       "      <td>4.680992</td>\n",
       "    </tr>\n",
       "    <tr>\n",
       "      <th>1</th>\n",
       "      <td>Arganzuela</td>\n",
       "      <td>Hotel room</td>\n",
       "      <td>19.0</td>\n",
       "      <td>4.689091</td>\n",
       "    </tr>\n",
       "    <tr>\n",
       "      <th>2</th>\n",
       "      <td>Arganzuela</td>\n",
       "      <td>Private room</td>\n",
       "      <td>31.0</td>\n",
       "      <td>4.712139</td>\n",
       "    </tr>\n",
       "    <tr>\n",
       "      <th>3</th>\n",
       "      <td>Arganzuela</td>\n",
       "      <td>Shared room</td>\n",
       "      <td>44.0</td>\n",
       "      <td>4.186000</td>\n",
       "    </tr>\n",
       "    <tr>\n",
       "      <th>4</th>\n",
       "      <td>Barajas</td>\n",
       "      <td>Entire home/apt</td>\n",
       "      <td>86.0</td>\n",
       "      <td>4.713195</td>\n",
       "    </tr>\n",
       "  </tbody>\n",
       "</table>\n",
       "</div>"
      ],
      "text/plain": [
       "  neighbourhood_group        room_type  precio_mediano  nota_media\n",
       "0          Arganzuela  Entire home/apt            70.0    4.680992\n",
       "1          Arganzuela       Hotel room            19.0    4.689091\n",
       "2          Arganzuela     Private room            31.0    4.712139\n",
       "3          Arganzuela      Shared room            44.0    4.186000\n",
       "4             Barajas  Entire home/apt            86.0    4.713195"
      ]
     },
     "execution_count": 19,
     "metadata": {},
     "output_type": "execute_result"
    }
   ],
   "source": [
    "# Unión de dataframes\n",
    "\n",
    "new_listings = pd.merge(count_id, median_price, on=['neighbourhood_group', 'room_type'])\n",
    "new_listings = pd.merge(median_price, mean, on=['neighbourhood_group', 'room_type'])\n",
    "\n",
    "new_listings.head()"
   ]
  },
  {
   "attachments": {},
   "cell_type": "markdown",
   "metadata": {},
   "source": [
    "## Transformación tabla `Reviews`"
   ]
  },
  {
   "attachments": {},
   "cell_type": "markdown",
   "metadata": {},
   "source": [
    "### 6. Predicciones "
   ]
  },
  {
   "cell_type": "code",
   "execution_count": 20,
   "metadata": {},
   "outputs": [],
   "source": [
    "# Últimos valores de cada distrito\n",
    "\n",
    "last_value = table_reviews.groupby('neighbourhood_group').tail(1)"
   ]
  },
  {
   "cell_type": "code",
   "execution_count": 21,
   "metadata": {},
   "outputs": [
    {
     "data": {
      "text/html": [
       "<div>\n",
       "<style scoped>\n",
       "    .dataframe tbody tr th:only-of-type {\n",
       "        vertical-align: middle;\n",
       "    }\n",
       "\n",
       "    .dataframe tbody tr th {\n",
       "        vertical-align: top;\n",
       "    }\n",
       "\n",
       "    .dataframe thead th {\n",
       "        text-align: right;\n",
       "    }\n",
       "</style>\n",
       "<table border=\"1\" class=\"dataframe\">\n",
       "  <thead>\n",
       "    <tr style=\"text-align: right;\">\n",
       "      <th></th>\n",
       "      <th>number_reviews</th>\n",
       "      <th>neighbourhood_group</th>\n",
       "      <th>month</th>\n",
       "    </tr>\n",
       "  </thead>\n",
       "  <tbody>\n",
       "    <tr>\n",
       "      <th>116</th>\n",
       "      <td>67</td>\n",
       "      <td>Arganzuela</td>\n",
       "      <td>2021-08</td>\n",
       "    </tr>\n",
       "    <tr>\n",
       "      <th>216</th>\n",
       "      <td>19</td>\n",
       "      <td>Barajas</td>\n",
       "      <td>2021-08</td>\n",
       "    </tr>\n",
       "    <tr>\n",
       "      <th>322</th>\n",
       "      <td>24</td>\n",
       "      <td>Carabanchel</td>\n",
       "      <td>2021-08</td>\n",
       "    </tr>\n",
       "    <tr>\n",
       "      <th>449</th>\n",
       "      <td>888</td>\n",
       "      <td>Centro</td>\n",
       "      <td>2021-08</td>\n",
       "    </tr>\n",
       "    <tr>\n",
       "      <th>563</th>\n",
       "      <td>25</td>\n",
       "      <td>Chamartín</td>\n",
       "      <td>2021-08</td>\n",
       "    </tr>\n",
       "    <tr>\n",
       "      <th>683</th>\n",
       "      <td>60</td>\n",
       "      <td>Chamberí</td>\n",
       "      <td>2021-08</td>\n",
       "    </tr>\n",
       "    <tr>\n",
       "      <th>777</th>\n",
       "      <td>23</td>\n",
       "      <td>Ciudad Lineal</td>\n",
       "      <td>2021-08</td>\n",
       "    </tr>\n",
       "    <tr>\n",
       "      <th>871</th>\n",
       "      <td>19</td>\n",
       "      <td>Fuencarral - El Pardo</td>\n",
       "      <td>2021-08</td>\n",
       "    </tr>\n",
       "    <tr>\n",
       "      <th>982</th>\n",
       "      <td>27</td>\n",
       "      <td>Hortaleza</td>\n",
       "      <td>2021-08</td>\n",
       "    </tr>\n",
       "    <tr>\n",
       "      <th>1090</th>\n",
       "      <td>23</td>\n",
       "      <td>Latina</td>\n",
       "      <td>2021-08</td>\n",
       "    </tr>\n",
       "    <tr>\n",
       "      <th>1191</th>\n",
       "      <td>16</td>\n",
       "      <td>Moncloa - Aravaca</td>\n",
       "      <td>2021-08</td>\n",
       "    </tr>\n",
       "    <tr>\n",
       "      <th>1276</th>\n",
       "      <td>1</td>\n",
       "      <td>Moratalaz</td>\n",
       "      <td>2021-08</td>\n",
       "    </tr>\n",
       "    <tr>\n",
       "      <th>1398</th>\n",
       "      <td>30</td>\n",
       "      <td>Puente de Vallecas</td>\n",
       "      <td>2021-08</td>\n",
       "    </tr>\n",
       "    <tr>\n",
       "      <th>1509</th>\n",
       "      <td>49</td>\n",
       "      <td>Retiro</td>\n",
       "      <td>2021-08</td>\n",
       "    </tr>\n",
       "    <tr>\n",
       "      <th>1633</th>\n",
       "      <td>80</td>\n",
       "      <td>Salamanca</td>\n",
       "      <td>2021-08</td>\n",
       "    </tr>\n",
       "    <tr>\n",
       "      <th>1739</th>\n",
       "      <td>15</td>\n",
       "      <td>San Blas - Canillejas</td>\n",
       "      <td>2021-08</td>\n",
       "    </tr>\n",
       "    <tr>\n",
       "      <th>1842</th>\n",
       "      <td>42</td>\n",
       "      <td>Tetuán</td>\n",
       "      <td>2021-08</td>\n",
       "    </tr>\n",
       "    <tr>\n",
       "      <th>1928</th>\n",
       "      <td>15</td>\n",
       "      <td>Usera</td>\n",
       "      <td>2021-08</td>\n",
       "    </tr>\n",
       "    <tr>\n",
       "      <th>1996</th>\n",
       "      <td>5</td>\n",
       "      <td>Vicálvaro</td>\n",
       "      <td>2021-08</td>\n",
       "    </tr>\n",
       "    <tr>\n",
       "      <th>2065</th>\n",
       "      <td>2</td>\n",
       "      <td>Villa de Vallecas</td>\n",
       "      <td>2021-08</td>\n",
       "    </tr>\n",
       "    <tr>\n",
       "      <th>2169</th>\n",
       "      <td>3</td>\n",
       "      <td>Villaverde</td>\n",
       "      <td>2021-08</td>\n",
       "    </tr>\n",
       "  </tbody>\n",
       "</table>\n",
       "</div>"
      ],
      "text/plain": [
       "      number_reviews    neighbourhood_group    month\n",
       "116               67             Arganzuela  2021-08\n",
       "216               19                Barajas  2021-08\n",
       "322               24            Carabanchel  2021-08\n",
       "449              888                 Centro  2021-08\n",
       "563               25              Chamartín  2021-08\n",
       "683               60               Chamberí  2021-08\n",
       "777               23          Ciudad Lineal  2021-08\n",
       "871               19  Fuencarral - El Pardo  2021-08\n",
       "982               27              Hortaleza  2021-08\n",
       "1090              23                 Latina  2021-08\n",
       "1191              16      Moncloa - Aravaca  2021-08\n",
       "1276               1              Moratalaz  2021-08\n",
       "1398              30     Puente de Vallecas  2021-08\n",
       "1509              49                 Retiro  2021-08\n",
       "1633              80              Salamanca  2021-08\n",
       "1739              15  San Blas - Canillejas  2021-08\n",
       "1842              42                 Tetuán  2021-08\n",
       "1928              15                  Usera  2021-08\n",
       "1996               5              Vicálvaro  2021-08\n",
       "2065               2      Villa de Vallecas  2021-08\n",
       "2169               3             Villaverde  2021-08"
      ]
     },
     "execution_count": 21,
     "metadata": {},
     "output_type": "execute_result"
    }
   ],
   "source": [
    "# Se incrementa el mes de julio a agosto\n",
    "\n",
    "last_value['month'] = last_value['month'].str.replace(r'2021-07', '2021-08')\n",
    "last_value"
   ]
  },
  {
   "cell_type": "code",
   "execution_count": 22,
   "metadata": {},
   "outputs": [
    {
     "data": {
      "text/html": [
       "<div>\n",
       "<style scoped>\n",
       "    .dataframe tbody tr th:only-of-type {\n",
       "        vertical-align: middle;\n",
       "    }\n",
       "\n",
       "    .dataframe tbody tr th {\n",
       "        vertical-align: top;\n",
       "    }\n",
       "\n",
       "    .dataframe thead th {\n",
       "        text-align: right;\n",
       "    }\n",
       "</style>\n",
       "<table border=\"1\" class=\"dataframe\">\n",
       "  <thead>\n",
       "    <tr style=\"text-align: right;\">\n",
       "      <th></th>\n",
       "      <th>number_reviews</th>\n",
       "      <th>neighbourhood_group</th>\n",
       "      <th>month</th>\n",
       "    </tr>\n",
       "  </thead>\n",
       "  <tbody>\n",
       "    <tr>\n",
       "      <th>0</th>\n",
       "      <td>1</td>\n",
       "      <td>Arganzuela</td>\n",
       "      <td>2011-01</td>\n",
       "    </tr>\n",
       "    <tr>\n",
       "      <th>1</th>\n",
       "      <td>1</td>\n",
       "      <td>Arganzuela</td>\n",
       "      <td>2011-03</td>\n",
       "    </tr>\n",
       "    <tr>\n",
       "      <th>2</th>\n",
       "      <td>1</td>\n",
       "      <td>Arganzuela</td>\n",
       "      <td>2011-04</td>\n",
       "    </tr>\n",
       "    <tr>\n",
       "      <th>3</th>\n",
       "      <td>1</td>\n",
       "      <td>Arganzuela</td>\n",
       "      <td>2011-05</td>\n",
       "    </tr>\n",
       "    <tr>\n",
       "      <th>4</th>\n",
       "      <td>1</td>\n",
       "      <td>Arganzuela</td>\n",
       "      <td>2011-06</td>\n",
       "    </tr>\n",
       "  </tbody>\n",
       "</table>\n",
       "</div>"
      ],
      "text/plain": [
       "   number_reviews neighbourhood_group    month\n",
       "0               1          Arganzuela  2011-01\n",
       "1               1          Arganzuela  2011-03\n",
       "2               1          Arganzuela  2011-04\n",
       "3               1          Arganzuela  2011-05\n",
       "4               1          Arganzuela  2011-06"
      ]
     },
     "execution_count": 22,
     "metadata": {},
     "output_type": "execute_result"
    }
   ],
   "source": [
    "# Unión de dataframes\n",
    "\n",
    "new_reviews = pd.concat([table_reviews, last_value]).sort_values(by=['neighbourhood_group', 'month'])\n",
    "new_reviews.head(5)"
   ]
  },
  {
   "attachments": {},
   "cell_type": "markdown",
   "metadata": {},
   "source": [
    "### 7. Casos en los que no hay datos"
   ]
  },
  {
   "cell_type": "code",
   "execution_count": 23,
   "metadata": {},
   "outputs": [],
   "source": [
    "# Creación de todas las fechas posibles entre 2011-01 y 2021-08\n",
    "\n",
    "month = pd.date_range('2011-01', '2021-08', freq='MS')"
   ]
  },
  {
   "cell_type": "code",
   "execution_count": 24,
   "metadata": {},
   "outputs": [],
   "source": [
    "# Posibles distritos\n",
    "\n",
    "neighbourhood_group = pd.Series(last_value['neighbourhood_group'].unique())"
   ]
  },
  {
   "cell_type": "code",
   "execution_count": 25,
   "metadata": {},
   "outputs": [
    {
     "data": {
      "text/html": [
       "<div>\n",
       "<style scoped>\n",
       "    .dataframe tbody tr th:only-of-type {\n",
       "        vertical-align: middle;\n",
       "    }\n",
       "\n",
       "    .dataframe tbody tr th {\n",
       "        vertical-align: top;\n",
       "    }\n",
       "\n",
       "    .dataframe thead th {\n",
       "        text-align: right;\n",
       "    }\n",
       "</style>\n",
       "<table border=\"1\" class=\"dataframe\">\n",
       "  <thead>\n",
       "    <tr style=\"text-align: right;\">\n",
       "      <th></th>\n",
       "      <th>month</th>\n",
       "      <th>neighbourhood_group</th>\n",
       "    </tr>\n",
       "  </thead>\n",
       "  <tbody>\n",
       "    <tr>\n",
       "      <th>0</th>\n",
       "      <td>2011-01-01</td>\n",
       "      <td>Arganzuela</td>\n",
       "    </tr>\n",
       "    <tr>\n",
       "      <th>1</th>\n",
       "      <td>2011-01-01</td>\n",
       "      <td>Barajas</td>\n",
       "    </tr>\n",
       "    <tr>\n",
       "      <th>2</th>\n",
       "      <td>2011-01-01</td>\n",
       "      <td>Carabanchel</td>\n",
       "    </tr>\n",
       "    <tr>\n",
       "      <th>3</th>\n",
       "      <td>2011-01-01</td>\n",
       "      <td>Centro</td>\n",
       "    </tr>\n",
       "    <tr>\n",
       "      <th>4</th>\n",
       "      <td>2011-01-01</td>\n",
       "      <td>Chamartín</td>\n",
       "    </tr>\n",
       "  </tbody>\n",
       "</table>\n",
       "</div>"
      ],
      "text/plain": [
       "       month neighbourhood_group\n",
       "0 2011-01-01          Arganzuela\n",
       "1 2011-01-01             Barajas\n",
       "2 2011-01-01         Carabanchel\n",
       "3 2011-01-01              Centro\n",
       "4 2011-01-01           Chamartín"
      ]
     },
     "execution_count": 25,
     "metadata": {},
     "output_type": "execute_result"
    }
   ],
   "source": [
    "# Unión de los dataframes de fechas y distritos creados anteriormente. \n",
    "\n",
    "combinations = pd.MultiIndex.from_product([month, neighbourhood_group], names=['month', 'neighbourhood_group']).to_frame().reset_index(drop=True)\n",
    "combinations.head()"
   ]
  },
  {
   "cell_type": "code",
   "execution_count": 26,
   "metadata": {},
   "outputs": [
    {
     "data": {
      "text/html": [
       "<div>\n",
       "<style scoped>\n",
       "    .dataframe tbody tr th:only-of-type {\n",
       "        vertical-align: middle;\n",
       "    }\n",
       "\n",
       "    .dataframe tbody tr th {\n",
       "        vertical-align: top;\n",
       "    }\n",
       "\n",
       "    .dataframe thead th {\n",
       "        text-align: right;\n",
       "    }\n",
       "</style>\n",
       "<table border=\"1\" class=\"dataframe\">\n",
       "  <thead>\n",
       "    <tr style=\"text-align: right;\">\n",
       "      <th></th>\n",
       "      <th>month</th>\n",
       "      <th>neighbourhood_group</th>\n",
       "    </tr>\n",
       "  </thead>\n",
       "  <tbody>\n",
       "    <tr>\n",
       "      <th>0</th>\n",
       "      <td>2011-01</td>\n",
       "      <td>Arganzuela</td>\n",
       "    </tr>\n",
       "    <tr>\n",
       "      <th>1</th>\n",
       "      <td>2011-01</td>\n",
       "      <td>Barajas</td>\n",
       "    </tr>\n",
       "    <tr>\n",
       "      <th>2</th>\n",
       "      <td>2011-01</td>\n",
       "      <td>Carabanchel</td>\n",
       "    </tr>\n",
       "    <tr>\n",
       "      <th>3</th>\n",
       "      <td>2011-01</td>\n",
       "      <td>Centro</td>\n",
       "    </tr>\n",
       "    <tr>\n",
       "      <th>4</th>\n",
       "      <td>2011-01</td>\n",
       "      <td>Chamartín</td>\n",
       "    </tr>\n",
       "  </tbody>\n",
       "</table>\n",
       "</div>"
      ],
      "text/plain": [
       "     month neighbourhood_group\n",
       "0  2011-01          Arganzuela\n",
       "1  2011-01             Barajas\n",
       "2  2011-01         Carabanchel\n",
       "3  2011-01              Centro\n",
       "4  2011-01           Chamartín"
      ]
     },
     "execution_count": 26,
     "metadata": {},
     "output_type": "execute_result"
    }
   ],
   "source": [
    "# Modificación del formato de la columna 'month' a año y mes \n",
    "\n",
    "combinations['month'] = combinations['month'].apply(lambda x: datetime.strftime(x, '%Y-%m'))\n",
    "combinations.head()"
   ]
  },
  {
   "cell_type": "code",
   "execution_count": 27,
   "metadata": {},
   "outputs": [
    {
     "data": {
      "text/html": [
       "<div>\n",
       "<style scoped>\n",
       "    .dataframe tbody tr th:only-of-type {\n",
       "        vertical-align: middle;\n",
       "    }\n",
       "\n",
       "    .dataframe tbody tr th {\n",
       "        vertical-align: top;\n",
       "    }\n",
       "\n",
       "    .dataframe thead th {\n",
       "        text-align: right;\n",
       "    }\n",
       "</style>\n",
       "<table border=\"1\" class=\"dataframe\">\n",
       "  <thead>\n",
       "    <tr style=\"text-align: right;\">\n",
       "      <th></th>\n",
       "      <th>month</th>\n",
       "      <th>neighbourhood_group</th>\n",
       "      <th>number_reviews</th>\n",
       "    </tr>\n",
       "  </thead>\n",
       "  <tbody>\n",
       "    <tr>\n",
       "      <th>0</th>\n",
       "      <td>2011-01</td>\n",
       "      <td>Arganzuela</td>\n",
       "      <td>1.0</td>\n",
       "    </tr>\n",
       "    <tr>\n",
       "      <th>21</th>\n",
       "      <td>2011-02</td>\n",
       "      <td>Arganzuela</td>\n",
       "      <td>NaN</td>\n",
       "    </tr>\n",
       "    <tr>\n",
       "      <th>42</th>\n",
       "      <td>2011-03</td>\n",
       "      <td>Arganzuela</td>\n",
       "      <td>1.0</td>\n",
       "    </tr>\n",
       "    <tr>\n",
       "      <th>63</th>\n",
       "      <td>2011-04</td>\n",
       "      <td>Arganzuela</td>\n",
       "      <td>1.0</td>\n",
       "    </tr>\n",
       "    <tr>\n",
       "      <th>84</th>\n",
       "      <td>2011-05</td>\n",
       "      <td>Arganzuela</td>\n",
       "      <td>1.0</td>\n",
       "    </tr>\n",
       "  </tbody>\n",
       "</table>\n",
       "</div>"
      ],
      "text/plain": [
       "      month neighbourhood_group  number_reviews\n",
       "0   2011-01          Arganzuela             1.0\n",
       "21  2011-02          Arganzuela             NaN\n",
       "42  2011-03          Arganzuela             1.0\n",
       "63  2011-04          Arganzuela             1.0\n",
       "84  2011-05          Arganzuela             1.0"
      ]
     },
     "execution_count": 27,
     "metadata": {},
     "output_type": "execute_result"
    }
   ],
   "source": [
    "# Unión de dataframes\n",
    "new_reviews = pd.merge(combinations, new_reviews, on=['month', 'neighbourhood_group'], how='outer')\n",
    "\n",
    "# Se ordenan los valores por distrito y mes\n",
    "new_reviews = new_reviews.sort_values(by=['neighbourhood_group', 'month'])\n",
    "\n",
    "new_reviews.head()"
   ]
  },
  {
   "attachments": {},
   "cell_type": "markdown",
   "metadata": {},
   "source": [
    "Tenemos valores nulos en la columna number_reviews puesto que en esa fecha nueva que se ha creado no hay ningún review. Para solucionarlo se imputara un 0 a estos valores. "
   ]
  },
  {
   "cell_type": "code",
   "execution_count": 28,
   "metadata": {},
   "outputs": [
    {
     "data": {
      "text/html": [
       "<div>\n",
       "<style scoped>\n",
       "    .dataframe tbody tr th:only-of-type {\n",
       "        vertical-align: middle;\n",
       "    }\n",
       "\n",
       "    .dataframe tbody tr th {\n",
       "        vertical-align: top;\n",
       "    }\n",
       "\n",
       "    .dataframe thead th {\n",
       "        text-align: right;\n",
       "    }\n",
       "</style>\n",
       "<table border=\"1\" class=\"dataframe\">\n",
       "  <thead>\n",
       "    <tr style=\"text-align: right;\">\n",
       "      <th></th>\n",
       "      <th>month</th>\n",
       "      <th>neighbourhood_group</th>\n",
       "      <th>number_reviews</th>\n",
       "    </tr>\n",
       "  </thead>\n",
       "  <tbody>\n",
       "    <tr>\n",
       "      <th>0</th>\n",
       "      <td>2011-01</td>\n",
       "      <td>Arganzuela</td>\n",
       "      <td>1.0</td>\n",
       "    </tr>\n",
       "    <tr>\n",
       "      <th>21</th>\n",
       "      <td>2011-02</td>\n",
       "      <td>Arganzuela</td>\n",
       "      <td>0.0</td>\n",
       "    </tr>\n",
       "    <tr>\n",
       "      <th>42</th>\n",
       "      <td>2011-03</td>\n",
       "      <td>Arganzuela</td>\n",
       "      <td>1.0</td>\n",
       "    </tr>\n",
       "    <tr>\n",
       "      <th>63</th>\n",
       "      <td>2011-04</td>\n",
       "      <td>Arganzuela</td>\n",
       "      <td>1.0</td>\n",
       "    </tr>\n",
       "    <tr>\n",
       "      <th>84</th>\n",
       "      <td>2011-05</td>\n",
       "      <td>Arganzuela</td>\n",
       "      <td>1.0</td>\n",
       "    </tr>\n",
       "  </tbody>\n",
       "</table>\n",
       "</div>"
      ],
      "text/plain": [
       "      month neighbourhood_group  number_reviews\n",
       "0   2011-01          Arganzuela             1.0\n",
       "21  2011-02          Arganzuela             0.0\n",
       "42  2011-03          Arganzuela             1.0\n",
       "63  2011-04          Arganzuela             1.0\n",
       "84  2011-05          Arganzuela             1.0"
      ]
     },
     "execution_count": 28,
     "metadata": {},
     "output_type": "execute_result"
    }
   ],
   "source": [
    "new_reviews['number_reviews'] = new_reviews['number_reviews'].fillna(0)\n",
    "new_reviews.head()"
   ]
  },
  {
   "attachments": {},
   "cell_type": "markdown",
   "metadata": {},
   "source": [
    "# 8. Carga "
   ]
  },
  {
   "attachments": {},
   "cell_type": "markdown",
   "metadata": {},
   "source": [
    "## Carga del dataframe `new_listings` a la base de datos"
   ]
  },
  {
   "cell_type": "code",
   "execution_count": 29,
   "metadata": {},
   "outputs": [
    {
     "data": {
      "text/plain": [
       "75"
      ]
     },
     "execution_count": 29,
     "metadata": {},
     "output_type": "execute_result"
    }
   ],
   "source": [
    "# Carga del dataframe en la base de datos. \n",
    "# El argumento \"if_exists='replace'\" se ha añadido para que al volver a ejecutar el código no de error al intentar crear una tabla que ya existe\n",
    "\n",
    "new_listings.to_sql('new_listings', engine, if_exists='replace', index=True)"
   ]
  },
  {
   "attachments": {},
   "cell_type": "markdown",
   "metadata": {},
   "source": [
    "Comprobación de la carga: **Consulta de los datos de la tabla \"new_listings\"**"
   ]
  },
  {
   "cell_type": "code",
   "execution_count": 30,
   "metadata": {},
   "outputs": [],
   "source": [
    "check_listings_query = \"\"\"\n",
    "SELECT * \n",
    "FROM new_listings LIMIT 10\n",
    "\"\"\""
   ]
  },
  {
   "cell_type": "code",
   "execution_count": 31,
   "metadata": {},
   "outputs": [
    {
     "data": {
      "text/html": [
       "<div>\n",
       "<style scoped>\n",
       "    .dataframe tbody tr th:only-of-type {\n",
       "        vertical-align: middle;\n",
       "    }\n",
       "\n",
       "    .dataframe tbody tr th {\n",
       "        vertical-align: top;\n",
       "    }\n",
       "\n",
       "    .dataframe thead th {\n",
       "        text-align: right;\n",
       "    }\n",
       "</style>\n",
       "<table border=\"1\" class=\"dataframe\">\n",
       "  <thead>\n",
       "    <tr style=\"text-align: right;\">\n",
       "      <th></th>\n",
       "      <th>index</th>\n",
       "      <th>neighbourhood_group</th>\n",
       "      <th>room_type</th>\n",
       "      <th>precio_mediano</th>\n",
       "      <th>nota_media</th>\n",
       "    </tr>\n",
       "  </thead>\n",
       "  <tbody>\n",
       "    <tr>\n",
       "      <th>0</th>\n",
       "      <td>0</td>\n",
       "      <td>Arganzuela</td>\n",
       "      <td>Entire home/apt</td>\n",
       "      <td>70.0</td>\n",
       "      <td>4.680992</td>\n",
       "    </tr>\n",
       "    <tr>\n",
       "      <th>1</th>\n",
       "      <td>1</td>\n",
       "      <td>Arganzuela</td>\n",
       "      <td>Hotel room</td>\n",
       "      <td>19.0</td>\n",
       "      <td>4.689091</td>\n",
       "    </tr>\n",
       "    <tr>\n",
       "      <th>2</th>\n",
       "      <td>2</td>\n",
       "      <td>Arganzuela</td>\n",
       "      <td>Private room</td>\n",
       "      <td>31.0</td>\n",
       "      <td>4.712139</td>\n",
       "    </tr>\n",
       "    <tr>\n",
       "      <th>3</th>\n",
       "      <td>3</td>\n",
       "      <td>Arganzuela</td>\n",
       "      <td>Shared room</td>\n",
       "      <td>44.0</td>\n",
       "      <td>4.186000</td>\n",
       "    </tr>\n",
       "    <tr>\n",
       "      <th>4</th>\n",
       "      <td>4</td>\n",
       "      <td>Barajas</td>\n",
       "      <td>Entire home/apt</td>\n",
       "      <td>86.0</td>\n",
       "      <td>4.713195</td>\n",
       "    </tr>\n",
       "  </tbody>\n",
       "</table>\n",
       "</div>"
      ],
      "text/plain": [
       "   index neighbourhood_group        room_type  precio_mediano  nota_media\n",
       "0      0          Arganzuela  Entire home/apt            70.0    4.680992\n",
       "1      1          Arganzuela       Hotel room            19.0    4.689091\n",
       "2      2          Arganzuela     Private room            31.0    4.712139\n",
       "3      3          Arganzuela      Shared room            44.0    4.186000\n",
       "4      4             Barajas  Entire home/apt            86.0    4.713195"
      ]
     },
     "execution_count": 31,
     "metadata": {},
     "output_type": "execute_result"
    }
   ],
   "source": [
    "table_reviews = pd.read_sql(check_listings_query, engine)  \n",
    "table_reviews.head()"
   ]
  },
  {
   "attachments": {},
   "cell_type": "markdown",
   "metadata": {},
   "source": [
    "## Carga del dataframe `new_reviews` a la base de datos"
   ]
  },
  {
   "cell_type": "code",
   "execution_count": 32,
   "metadata": {},
   "outputs": [
    {
     "data": {
      "text/plain": [
       "2688"
      ]
     },
     "execution_count": 32,
     "metadata": {},
     "output_type": "execute_result"
    }
   ],
   "source": [
    "# Carga del dataframe en la base de datos\n",
    "# El argumento \"if_exists='replace'\" se ha añadido para que al volver a ejecutar el código no de error al intentar crear una tabla que ya existe.\n",
    "\n",
    "new_reviews.to_sql('new_reviews', engine, if_exists='replace', index=True)"
   ]
  },
  {
   "attachments": {},
   "cell_type": "markdown",
   "metadata": {},
   "source": [
    "Comprobación de la carga: **Consulta de los datos de la tabla \"new_reviews\"**"
   ]
  },
  {
   "cell_type": "code",
   "execution_count": 33,
   "metadata": {},
   "outputs": [],
   "source": [
    "check_reviews_query = \"\"\"\n",
    "SELECT * \n",
    "FROM new_reviews LIMIT 10\n",
    "\"\"\""
   ]
  },
  {
   "cell_type": "code",
   "execution_count": 34,
   "metadata": {},
   "outputs": [
    {
     "data": {
      "text/html": [
       "<div>\n",
       "<style scoped>\n",
       "    .dataframe tbody tr th:only-of-type {\n",
       "        vertical-align: middle;\n",
       "    }\n",
       "\n",
       "    .dataframe tbody tr th {\n",
       "        vertical-align: top;\n",
       "    }\n",
       "\n",
       "    .dataframe thead th {\n",
       "        text-align: right;\n",
       "    }\n",
       "</style>\n",
       "<table border=\"1\" class=\"dataframe\">\n",
       "  <thead>\n",
       "    <tr style=\"text-align: right;\">\n",
       "      <th></th>\n",
       "      <th>index</th>\n",
       "      <th>month</th>\n",
       "      <th>neighbourhood_group</th>\n",
       "      <th>number_reviews</th>\n",
       "    </tr>\n",
       "  </thead>\n",
       "  <tbody>\n",
       "    <tr>\n",
       "      <th>0</th>\n",
       "      <td>0</td>\n",
       "      <td>2011-01</td>\n",
       "      <td>Arganzuela</td>\n",
       "      <td>1.0</td>\n",
       "    </tr>\n",
       "    <tr>\n",
       "      <th>1</th>\n",
       "      <td>21</td>\n",
       "      <td>2011-02</td>\n",
       "      <td>Arganzuela</td>\n",
       "      <td>0.0</td>\n",
       "    </tr>\n",
       "    <tr>\n",
       "      <th>2</th>\n",
       "      <td>42</td>\n",
       "      <td>2011-03</td>\n",
       "      <td>Arganzuela</td>\n",
       "      <td>1.0</td>\n",
       "    </tr>\n",
       "    <tr>\n",
       "      <th>3</th>\n",
       "      <td>63</td>\n",
       "      <td>2011-04</td>\n",
       "      <td>Arganzuela</td>\n",
       "      <td>1.0</td>\n",
       "    </tr>\n",
       "    <tr>\n",
       "      <th>4</th>\n",
       "      <td>84</td>\n",
       "      <td>2011-05</td>\n",
       "      <td>Arganzuela</td>\n",
       "      <td>1.0</td>\n",
       "    </tr>\n",
       "  </tbody>\n",
       "</table>\n",
       "</div>"
      ],
      "text/plain": [
       "   index    month neighbourhood_group  number_reviews\n",
       "0      0  2011-01          Arganzuela             1.0\n",
       "1     21  2011-02          Arganzuela             0.0\n",
       "2     42  2011-03          Arganzuela             1.0\n",
       "3     63  2011-04          Arganzuela             1.0\n",
       "4     84  2011-05          Arganzuela             1.0"
      ]
     },
     "execution_count": 34,
     "metadata": {},
     "output_type": "execute_result"
    }
   ],
   "source": [
    "table_reviews = pd.read_sql(check_reviews_query, engine)  \n",
    "table_reviews.head()"
   ]
  }
 ],
 "metadata": {
  "kernelspec": {
   "display_name": "extraccion",
   "language": "python",
   "name": "python3"
  },
  "language_info": {
   "codemirror_mode": {
    "name": "ipython",
    "version": 3
   },
   "file_extension": ".py",
   "mimetype": "text/x-python",
   "name": "python",
   "nbconvert_exporter": "python",
   "pygments_lexer": "ipython3",
   "version": "3.9.15"
  },
  "vscode": {
   "interpreter": {
    "hash": "9b342a5858484ca7ecfef77fd2958d3edcaba5902075f31b885e6e92aa4c2a4b"
   }
  }
 },
 "nbformat": 4,
 "nbformat_minor": 2
}
